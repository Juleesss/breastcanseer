{
 "cells": [
  {
   "cell_type": "code",
   "execution_count": 8,
   "metadata": {
    "collapsed": true
   },
   "outputs": [],
   "source": [
    "import json\n",
    "import pandas as pd\n",
    "import numpy as np\n",
    "import matplotlib.pyplot as plt"
   ]
  },
  {
   "cell_type": "code",
   "execution_count": 9,
   "outputs": [
    {
     "name": "stdout",
     "output_type": "stream",
     "text": [
      "hello world!\n"
     ]
    }
   ],
   "source": [
    "print('hello world!')"
   ],
   "metadata": {
    "collapsed": false,
    "pycharm": {
     "name": "#%%\n"
    }
   }
  },
  {
   "cell_type": "code",
   "execution_count": 10,
   "outputs": [],
   "source": [
    "with open('../../data/clinical.cases_selection.2022-09-28.json', 'r') as f:\n",
    "    data = json.load(f)"
   ],
   "metadata": {
    "collapsed": false,
    "pycharm": {
     "name": "#%%\n"
    }
   }
  },
  {
   "cell_type": "code",
   "execution_count": 11,
   "outputs": [
    {
     "name": "stdout",
     "output_type": "stream",
     "text": [
      "<class 'list'>\n"
     ]
    }
   ],
   "source": [
    "print(type(data))"
   ],
   "metadata": {
    "collapsed": false,
    "pycharm": {
     "name": "#%%\n"
    }
   }
  },
  {
   "cell_type": "code",
   "execution_count": 35,
   "outputs": [
    {
     "name": "stdout",
     "output_type": "stream",
     "text": [
      "7894\n"
     ]
    },
    {
     "data": {
      "text/plain": "{'case_id': '7844c90b-76ca-4bbe-8604-06d582c083c5',\n 'diagnoses': [{'irs_stage': None,\n   'iss_stage': None,\n   'ajcc_pathologic_stage': None,\n   'ann_arbor_clinical_stage': None,\n   'created_datetime': '2018-10-03T03:18:12.577279-05:00',\n   'enneking_msts_stage': None,\n   'inrg_stage': None,\n   'enneking_msts_metastasis': None,\n   'tissue_or_organ_of_origin': 'Breast, NOS',\n   'age_at_diagnosis': None,\n   'esophageal_columnar_dysplasia_degree': None,\n   'cog_liver_stage': None,\n   'child_pugh_classification': None,\n   'international_prognostic_index': None,\n   'peritoneal_fluid_cytological_status': None,\n   'metastasis_at_diagnosis_site': None,\n   'state': 'released',\n   'prior_treatment': None,\n   'cog_rhabdomyosarcoma_risk_group': None,\n   'days_to_last_known_disease_status': None,\n   'primary_gleason_grade': None,\n   'inpc_grade': None,\n   'ajcc_pathologic_t': None,\n   'morphology': '8521/3',\n   'ajcc_pathologic_n': None,\n   'ajcc_pathologic_m': None,\n   'irs_group': None,\n   'medulloblastoma_molecular_classification': None,\n   'ovarian_surface_involvement': None,\n   'mitotic_count': None,\n   'wilms_tumor_histologic_subtype': None,\n   'residual_disease': None,\n   'weiss_assessment_score': None,\n   'classification_of_tumor': None,\n   'tumor_focality': None,\n   'ann_arbor_b_symptoms': None,\n   'icd_10_code': None,\n   'cog_renal_stage': None,\n   'figo_stage': None,\n   'synchronous_malignancy': None,\n   'burkitt_lymphoma_clinical_variant': None,\n   'days_to_best_overall_response': None,\n   'inss_stage': None,\n   'supratentorial_localization': None,\n   'ishak_fibrosis_score': None,\n   'ovarian_specimen_status': None,\n   'tumor_confined_to_organ_of_origin': None,\n   'gleason_grade_group': None,\n   'days_to_diagnosis': None,\n   'goblet_cells_columnar_mucosa_present': None,\n   'laterality': None,\n   'last_known_disease_status': 'not reported',\n   'days_to_last_follow_up': None,\n   'primary_diagnosis': 'Infiltrating ductular carcinoma',\n   'ajcc_clinical_stage': None,\n   'cog_neuroblastoma_risk_group': None,\n   'updated_datetime': '2019-11-19T10:19:29.140531-06:00',\n   'metastasis_at_diagnosis': None,\n   'enneking_msts_tumor_site': None,\n   'prior_malignancy': None,\n   'year_of_diagnosis': None,\n   'secondary_gleason_grade': None,\n   'best_overall_response': None,\n   'ann_arbor_pathologic_stage': None,\n   'ann_arbor_extranodal_involvement': None,\n   'method_of_diagnosis': None,\n   'mitosis_karyorrhexis_index': None,\n   'ajcc_staging_system_edition': None,\n   'days_to_recurrence': None,\n   'esophageal_columnar_metaplasia_present': None,\n   'ajcc_clinical_m': None,\n   'submitter_id': 'GENIE-MSK-P-0009740-T01-IM5_diagnosis',\n   'ajcc_clinical_n': None,\n   'ajcc_clinical_t': None,\n   'inpc_histologic_group': None,\n   'masaoka_stage': None,\n   'micropapillary_features': None,\n   'diagnosis_id': '132c9cef-3f38-4adf-9c2c-0d8bfa5148ac',\n   'igcccg_stage': None,\n   'tumor_regression_grade': None,\n   'site_of_resection_or_biopsy': 'Not Reported',\n   'first_symptom_prior_to_diagnosis': None,\n   'tumor_grade': 'Not Reported',\n   'enneking_msts_grade': None,\n   'gastric_esophageal_junction_involvement': None,\n   'progression_or_recurrence': 'not reported'}],\n 'demographic': {'cause_of_death': None,\n  'race': 'white',\n  'gender': 'female',\n  'ethnicity': 'not hispanic or latino',\n  'vital_status': 'Not Reported',\n  'age_at_index': 10957,\n  'submitter_id': 'GENIE-MSK-P-0009740_demo',\n  'days_to_birth': -10957,\n  'created_datetime': '2018-10-03T02:21:18.219667-05:00',\n  'year_of_birth': None,\n  'cause_of_death_source': None,\n  'premature_at_birth': None,\n  'weeks_gestation_at_birth': None,\n  'demographic_id': '49cef316-c899-4abc-9def-9aad3ee73ed0',\n  'updated_datetime': '2020-06-09T15:51:00.416777-05:00',\n  'age_is_obfuscated': None,\n  'occupation_duration_years': None,\n  'days_to_death': None,\n  'state': 'released',\n  'year_of_death': None}}"
     },
     "execution_count": 35,
     "metadata": {},
     "output_type": "execute_result"
    }
   ],
   "source": [
    "print(len(data))\n",
    "data[4030]"
   ],
   "metadata": {
    "collapsed": false,
    "pycharm": {
     "name": "#%%\n"
    }
   }
  },
  {
   "cell_type": "code",
   "execution_count": 23,
   "outputs": [
    {
     "name": "stdout",
     "output_type": "stream",
     "text": [
      "<class 'list'>\n",
      "1\n",
      "<class 'dict'>\n",
      "dict_keys(['exposures', 'case_id', 'follow_ups', 'diagnoses', 'demographic'])\n"
     ]
    }
   ],
   "source": [
    "print(type(data[0]['exposures']))\n",
    "print(len(data[0]['exposures']))\n",
    "print(type(data[0]['exposures'][0]))\n",
    "print(data[0].keys())"
   ],
   "metadata": {
    "collapsed": false,
    "pycharm": {
     "name": "#%%\n"
    }
   }
  },
  {
   "cell_type": "code",
   "execution_count": 36,
   "outputs": [
    {
     "name": "stdout",
     "output_type": "stream",
     "text": [
      "found one!\n",
      "found one!\n",
      "found one!\n",
      "found one!\n",
      "found one!\n",
      "found one!\n",
      "found one!\n",
      "found one!\n",
      "found one!\n",
      "found one!\n",
      "number of errors: 7737\n",
      "number of follow ups: 157\n"
     ]
    }
   ],
   "source": [
    "err = 0\n",
    "foll = 0\n",
    "for case in data:\n",
    "\n",
    "    try:\n",
    "        if len(case['follow_ups']) > 1:\n",
    "            print('found one!')\n",
    "        foll += 1\n",
    "    except:\n",
    "        # print('error', err)\n",
    "        err += 1\n",
    "\n",
    "print(f'number of errors: {err}')\n",
    "print(f'number of follow ups: {foll}')"
   ],
   "metadata": {
    "collapsed": false,
    "pycharm": {
     "name": "#%%\n"
    }
   }
  },
  {
   "cell_type": "code",
   "execution_count": 37,
   "outputs": [
    {
     "ename": "KeyError",
     "evalue": "0",
     "output_type": "error",
     "traceback": [
      "\u001B[1;31m---------------------------------------------------------------------------\u001B[0m",
      "\u001B[1;31mKeyError\u001B[0m                                  Traceback (most recent call last)",
      "Cell \u001B[1;32mIn [37], line 10\u001B[0m\n\u001B[0;32m      8\u001B[0m casedata\u001B[38;5;241m.\u001B[39mappend(case[\u001B[38;5;124m'\u001B[39m\u001B[38;5;124mcase_id\u001B[39m\u001B[38;5;124m'\u001B[39m])\n\u001B[0;32m      9\u001B[0m \u001B[38;5;28;01mfor\u001B[39;00m subcase \u001B[38;5;129;01min\u001B[39;00m [\u001B[38;5;124m'\u001B[39m\u001B[38;5;124mexposures\u001B[39m\u001B[38;5;124m'\u001B[39m, \u001B[38;5;124m'\u001B[39m\u001B[38;5;124mfollow_ups\u001B[39m\u001B[38;5;124m'\u001B[39m, \u001B[38;5;124m'\u001B[39m\u001B[38;5;124mdiagnoses\u001B[39m\u001B[38;5;124m'\u001B[39m, \u001B[38;5;124m'\u001B[39m\u001B[38;5;124mdemographic\u001B[39m\u001B[38;5;124m'\u001B[39m]:\n\u001B[1;32m---> 10\u001B[0m     \u001B[38;5;28;01mfor\u001B[39;00m colname, value \u001B[38;5;129;01min\u001B[39;00m case[subcase][\u001B[38;5;241m0\u001B[39m]\u001B[38;5;241m.\u001B[39mitems():\n\u001B[0;32m     11\u001B[0m         \u001B[38;5;66;03m# print(f'{subcase}_{colname} : {value}')\u001B[39;00m\n\u001B[0;32m     12\u001B[0m         casedata\u001B[38;5;241m.\u001B[39mappend(value)\n\u001B[0;32m     13\u001B[0m         \u001B[38;5;28;01mif\u001B[39;00m col:\n",
      "\u001B[1;31mKeyError\u001B[0m: 0"
     ]
    }
   ],
   "source": [
    "#create df from json data by hand\n",
    "\n",
    "raw_data_tcga1 = []\n",
    "raw_columns_tcga1 = ['case_id']\n",
    "col = True\n",
    "for case in data[:5]:\n",
    "    casedata = []\n",
    "    casedata.append(case['case_id'])\n",
    "    for subcase in ['exposures', 'follow_ups', 'diagnoses', 'demographic']:\n",
    "        for colname, value in case[subcase][0].items():\n",
    "            # print(f'{subcase}_{colname} : {value}')\n",
    "            casedata.append(value)\n",
    "            if col:\n",
    "                raw_columns_tcga1.append(f'{subcase}_{colname}')\n",
    "    col = False\n",
    "    raw_data_tcga1.append(case)\n",
    "\n",
    "tcga1_handf = pd.DataFrame(data = raw_data_tcga1, columns=raw_columns_tcga1)"
   ],
   "metadata": {
    "collapsed": false,
    "pycharm": {
     "name": "#%%\n"
    }
   }
  },
  {
   "cell_type": "code",
   "execution_count": 52,
   "outputs": [],
   "source": [
    "tgsc1_df = pd.read_json('../../data/cases.2022-09-28.json')"
   ],
   "metadata": {
    "collapsed": false,
    "pycharm": {
     "name": "#%%\n"
    }
   }
  },
  {
   "cell_type": "code",
   "execution_count": 53,
   "outputs": [
    {
     "data": {
      "text/plain": "(6857, 5)"
     },
     "metadata": {},
     "output_type": "display_data"
    },
    {
     "data": {
      "text/plain": "                                                  summary primary_site  \\\ncount                                                6857         6857   \nunique                                                189            1   \ntop     {'file_count': 2, 'data_categories': [{'file_c...       Breast   \nfreq                                                 2829         6857   \n\n                            project  submitter_id           demographic  \ncount                          6857          6857                  6856  \nunique                           13          6857                     4  \ntop     {'project_id': 'GENIE-MSK'}  TCGA-A7-A0DA  {'gender': 'female'}  \nfreq                           1992             1                  6799  ",
      "text/html": "<div>\n<style scoped>\n    .dataframe tbody tr th:only-of-type {\n        vertical-align: middle;\n    }\n\n    .dataframe tbody tr th {\n        vertical-align: top;\n    }\n\n    .dataframe thead th {\n        text-align: right;\n    }\n</style>\n<table border=\"1\" class=\"dataframe\">\n  <thead>\n    <tr style=\"text-align: right;\">\n      <th></th>\n      <th>summary</th>\n      <th>primary_site</th>\n      <th>project</th>\n      <th>submitter_id</th>\n      <th>demographic</th>\n    </tr>\n  </thead>\n  <tbody>\n    <tr>\n      <th>count</th>\n      <td>6857</td>\n      <td>6857</td>\n      <td>6857</td>\n      <td>6857</td>\n      <td>6856</td>\n    </tr>\n    <tr>\n      <th>unique</th>\n      <td>189</td>\n      <td>1</td>\n      <td>13</td>\n      <td>6857</td>\n      <td>4</td>\n    </tr>\n    <tr>\n      <th>top</th>\n      <td>{'file_count': 2, 'data_categories': [{'file_c...</td>\n      <td>Breast</td>\n      <td>{'project_id': 'GENIE-MSK'}</td>\n      <td>TCGA-A7-A0DA</td>\n      <td>{'gender': 'female'}</td>\n    </tr>\n    <tr>\n      <th>freq</th>\n      <td>2829</td>\n      <td>6857</td>\n      <td>1992</td>\n      <td>1</td>\n      <td>6799</td>\n    </tr>\n  </tbody>\n</table>\n</div>"
     },
     "metadata": {},
     "output_type": "display_data"
    }
   ],
   "source": [
    "display(\n",
    "    tgsc1_df.shape,\n",
    "    tgsc1_df.describe()\n",
    ")"
   ],
   "metadata": {
    "collapsed": false,
    "pycharm": {
     "name": "#%%\n"
    }
   }
  },
  {
   "cell_type": "code",
   "execution_count": 54,
   "outputs": [
    {
     "data": {
      "text/plain": "                                             summary primary_site  \\\n0  {'file_count': 66, 'data_categories': [{'file_...       Breast   \n1  {'file_count': 65, 'data_categories': [{'file_...       Breast   \n2  {'file_count': 65, 'data_categories': [{'file_...       Breast   \n3  {'file_count': 74, 'data_categories': [{'file_...       Breast   \n4  {'file_count': 66, 'data_categories': [{'file_...       Breast   \n\n                       project  submitter_id           demographic  \n0  {'project_id': 'TCGA-BRCA'}  TCGA-A7-A0DA  {'gender': 'female'}  \n1  {'project_id': 'TCGA-BRCA'}  TCGA-BH-A0BD  {'gender': 'female'}  \n2  {'project_id': 'TCGA-BRCA'}  TCGA-A8-A0AB  {'gender': 'female'}  \n3  {'project_id': 'TCGA-BRCA'}  TCGA-B6-A1KC  {'gender': 'female'}  \n4  {'project_id': 'TCGA-BRCA'}  TCGA-A8-A07I  {'gender': 'female'}  ",
      "text/html": "<div>\n<style scoped>\n    .dataframe tbody tr th:only-of-type {\n        vertical-align: middle;\n    }\n\n    .dataframe tbody tr th {\n        vertical-align: top;\n    }\n\n    .dataframe thead th {\n        text-align: right;\n    }\n</style>\n<table border=\"1\" class=\"dataframe\">\n  <thead>\n    <tr style=\"text-align: right;\">\n      <th></th>\n      <th>summary</th>\n      <th>primary_site</th>\n      <th>project</th>\n      <th>submitter_id</th>\n      <th>demographic</th>\n    </tr>\n  </thead>\n  <tbody>\n    <tr>\n      <th>0</th>\n      <td>{'file_count': 66, 'data_categories': [{'file_...</td>\n      <td>Breast</td>\n      <td>{'project_id': 'TCGA-BRCA'}</td>\n      <td>TCGA-A7-A0DA</td>\n      <td>{'gender': 'female'}</td>\n    </tr>\n    <tr>\n      <th>1</th>\n      <td>{'file_count': 65, 'data_categories': [{'file_...</td>\n      <td>Breast</td>\n      <td>{'project_id': 'TCGA-BRCA'}</td>\n      <td>TCGA-BH-A0BD</td>\n      <td>{'gender': 'female'}</td>\n    </tr>\n    <tr>\n      <th>2</th>\n      <td>{'file_count': 65, 'data_categories': [{'file_...</td>\n      <td>Breast</td>\n      <td>{'project_id': 'TCGA-BRCA'}</td>\n      <td>TCGA-A8-A0AB</td>\n      <td>{'gender': 'female'}</td>\n    </tr>\n    <tr>\n      <th>3</th>\n      <td>{'file_count': 74, 'data_categories': [{'file_...</td>\n      <td>Breast</td>\n      <td>{'project_id': 'TCGA-BRCA'}</td>\n      <td>TCGA-B6-A1KC</td>\n      <td>{'gender': 'female'}</td>\n    </tr>\n    <tr>\n      <th>4</th>\n      <td>{'file_count': 66, 'data_categories': [{'file_...</td>\n      <td>Breast</td>\n      <td>{'project_id': 'TCGA-BRCA'}</td>\n      <td>TCGA-A8-A07I</td>\n      <td>{'gender': 'female'}</td>\n    </tr>\n  </tbody>\n</table>\n</div>"
     },
     "execution_count": 54,
     "metadata": {},
     "output_type": "execute_result"
    }
   ],
   "source": [
    "tgsc1_df.head()"
   ],
   "metadata": {
    "collapsed": false,
    "pycharm": {
     "name": "#%%\n"
    }
   }
  },
  {
   "cell_type": "code",
   "execution_count": 51,
   "outputs": [
    {
     "name": "stdout",
     "output_type": "stream",
     "text": [
      "<class 'dict'>\n"
     ]
    },
    {
     "data": {
      "text/plain": "0"
     },
     "execution_count": 51,
     "metadata": {},
     "output_type": "execute_result"
    }
   ],
   "source": [
    "import re\n",
    "\n",
    "print(type(tgsc1_df.diagnoses[0][0]))\n",
    "\n",
    "tgsc1_df['string of diagnoses'] = tgsc1_df.diagnoses.apply(lambda x: str(x))\n",
    "tgsc1_df['tissue_or_organ_of_origin'] = tgsc1_df.diagnoses.str.contains('breast', regex=False)\n",
    "tgsc1_df.tissue_or_organ_of_origin.sum()"
   ],
   "metadata": {
    "collapsed": false,
    "pycharm": {
     "name": "#%%\n"
    }
   }
  },
  {
   "cell_type": "code",
   "execution_count": 49,
   "outputs": [
    {
     "data": {
      "text/plain": "str"
     },
     "execution_count": 49,
     "metadata": {},
     "output_type": "execute_result"
    }
   ],
   "source": [
    "type(tgsc1_df['string of diagnoses'][0])"
   ],
   "metadata": {
    "collapsed": false,
    "pycharm": {
     "name": "#%%\n"
    }
   }
  },
  {
   "cell_type": "code",
   "execution_count": 55,
   "outputs": [
    {
     "data": {
      "text/plain": "{'summary': {'file_count': 66,\n  'data_categories': [{'file_count': 4,\n    'data_category': 'Structural Variation'},\n   {'file_count': 17, 'data_category': 'Simple Nucleotide Variation'},\n   {'file_count': 6, 'data_category': 'Copy Number Variation'},\n   {'file_count': 4, 'data_category': 'Transcriptome Profiling'},\n   {'file_count': 3, 'data_category': 'DNA Methylation'},\n   {'file_count': 6, 'data_category': 'Sequencing Reads'},\n   {'file_count': 15, 'data_category': 'Biospecimen'},\n   {'file_count': 10, 'data_category': 'Clinical'},\n   {'file_count': 1, 'data_category': 'Proteome Profiling'}]},\n 'primary_site': 'Breast',\n 'project': {'project_id': 'TCGA-BRCA'},\n 'submitter_id': 'TCGA-A7-A0DA',\n 'demographic': {'gender': 'female'}}"
     },
     "execution_count": 55,
     "metadata": {},
     "output_type": "execute_result"
    }
   ],
   "source": [
    "with open('../../data/cases.2022-09-28.json', 'r') as f:\n",
    "    data2 = json.load(f)\n",
    "\n",
    "data2[0]"
   ],
   "metadata": {
    "collapsed": false,
    "pycharm": {
     "name": "#%%\n"
    }
   }
  },
  {
   "cell_type": "code",
   "execution_count": 58,
   "outputs": [
    {
     "data": {
      "text/plain": "{'exposures': [{'cigarettes_per_day': None,\n   'alcohol_history': 'Not Reported',\n   'updated_datetime': '2019-07-31T21:18:16.285358-05:00',\n   'exposure_id': 'a7d2ea16-132a-51ad-be10-bfee634165ee',\n   'submitter_id': 'TCGA-A7-A0DA_exposure',\n   'years_smoked': None,\n   'state': 'released',\n   'created_datetime': None,\n   'alcohol_intensity': None}],\n 'case_id': '3afa1e93-1df8-4e4c-aaa4-557463f4bb77',\n 'diagnoses': [{'synchronous_malignancy': 'No',\n   'ajcc_pathologic_stage': 'Stage IIA',\n   'days_to_diagnosis': 0,\n   'created_datetime': None,\n   'treatments': [{'days_to_treatment_end': None,\n     'days_to_treatment_start': None,\n     'treatment_id': '4be7a060-f8fa-5ff9-bda0-fa7cee7b3483',\n     'submitter_id': 'TCGA-A7-A0DA_treatment_1',\n     'treatment_type': 'Pharmaceutical Therapy, NOS',\n     'regimen_or_line_of_therapy': None,\n     'treatment_effect': None,\n     'therapeutic_agents': None,\n     'treatment_or_therapy': 'yes',\n     'created_datetime': '2019-04-28T13:32:45.312616-05:00',\n     'initial_disease_status': None,\n     'treatment_intent_type': None,\n     'treatment_anatomic_site': None,\n     'updated_datetime': '2019-07-31T21:18:16.285358-05:00',\n     'treatment_outcome': None,\n     'state': 'released'},\n    {'treatment_intent_type': None,\n     'updated_datetime': '2019-07-31T21:18:16.285358-05:00',\n     'treatment_id': '5a022fde-a913-5e23-b1bd-4e861107c38d',\n     'submitter_id': 'TCGA-A7-A0DA_treatment',\n     'treatment_type': 'Radiation Therapy, NOS',\n     'state': 'released',\n     'therapeutic_agents': None,\n     'treatment_or_therapy': 'yes',\n     'created_datetime': None}],\n   'last_known_disease_status': 'not reported',\n   'tissue_or_organ_of_origin': 'Breast, NOS',\n   'days_to_last_follow_up': 1085,\n   'age_at_diagnosis': 22708,\n   'primary_diagnosis': 'Infiltrating duct carcinoma, NOS',\n   'updated_datetime': '2019-08-08T16:21:06.649374-05:00',\n   'prior_malignancy': 'no',\n   'year_of_diagnosis': 2009,\n   'state': 'released',\n   'prior_treatment': 'No',\n   'days_to_last_known_disease_status': None,\n   'ajcc_pathologic_t': 'T2',\n   'days_to_recurrence': None,\n   'morphology': '8500/3',\n   'ajcc_pathologic_n': 'N0 (i-)',\n   'ajcc_pathologic_m': 'M0',\n   'submitter_id': 'TCGA-A7-A0DA_diagnosis',\n   'classification_of_tumor': 'not reported',\n   'diagnosis_id': 'd9e34d72-793c-5407-a421-eae9280c75b1',\n   'icd_10_code': 'C50.9',\n   'site_of_resection_or_biopsy': 'Breast, NOS',\n   'tumor_grade': 'not reported',\n   'progression_or_recurrence': 'not reported'}],\n 'demographic': {'race': 'white',\n  'gender': 'female',\n  'ethnicity': 'not hispanic or latino',\n  'vital_status': 'Alive',\n  'age_at_index': 62,\n  'submitter_id': 'TCGA-A7-A0DA_demographic',\n  'days_to_birth': -22708,\n  'created_datetime': None,\n  'year_of_birth': 1947,\n  'demographic_id': 'fb49b217-29cd-5368-8589-b46f2b3fe2ef',\n  'updated_datetime': '2019-07-31T21:18:16.285358-05:00',\n  'state': 'released',\n  'year_of_death': None}}"
     },
     "execution_count": 58,
     "metadata": {},
     "output_type": "execute_result"
    }
   ],
   "source": [
    "with open('../../data/clinical.cases_selection.2022-09-28 (1).json', 'r') as f:\n",
    "    data3 = json.load(f)\n",
    "\n",
    "data3[0]"
   ],
   "metadata": {
    "collapsed": false,
    "pycharm": {
     "name": "#%%\n"
    }
   }
  },
  {
   "cell_type": "code",
   "execution_count": 60,
   "outputs": [
    {
     "data": {
      "text/plain": "                                                exposures  \\\ncount                                                1053   \nunique                                               1053   \ntop     [{'cigarettes_per_day': None, 'alcohol_history...   \nfreq                                                    1   \n\n                                     case_id  \\\ncount                                   6857   \nunique                                  6857   \ntop     3afa1e93-1df8-4e4c-aaa4-557463f4bb77   \nfreq                                       1   \n\n                                                diagnoses  \\\ncount                                                6856   \nunique                                               6856   \ntop     [{'synchronous_malignancy': 'No', 'ajcc_pathol...   \nfreq                                                    1   \n\n                                              demographic  \\\ncount                                                6856   \nunique                                               6856   \ntop     {'race': 'white', 'gender': 'female', 'ethnici...   \nfreq                                                    1   \n\n                                               follow_ups  \ncount                                                   1  \nunique                                                  1  \ntop     [{'karnofsky_performance_status': None, 'follo...  \nfreq                                                    1  ",
      "text/html": "<div>\n<style scoped>\n    .dataframe tbody tr th:only-of-type {\n        vertical-align: middle;\n    }\n\n    .dataframe tbody tr th {\n        vertical-align: top;\n    }\n\n    .dataframe thead th {\n        text-align: right;\n    }\n</style>\n<table border=\"1\" class=\"dataframe\">\n  <thead>\n    <tr style=\"text-align: right;\">\n      <th></th>\n      <th>exposures</th>\n      <th>case_id</th>\n      <th>diagnoses</th>\n      <th>demographic</th>\n      <th>follow_ups</th>\n    </tr>\n  </thead>\n  <tbody>\n    <tr>\n      <th>count</th>\n      <td>1053</td>\n      <td>6857</td>\n      <td>6856</td>\n      <td>6856</td>\n      <td>1</td>\n    </tr>\n    <tr>\n      <th>unique</th>\n      <td>1053</td>\n      <td>6857</td>\n      <td>6856</td>\n      <td>6856</td>\n      <td>1</td>\n    </tr>\n    <tr>\n      <th>top</th>\n      <td>[{'cigarettes_per_day': None, 'alcohol_history...</td>\n      <td>3afa1e93-1df8-4e4c-aaa4-557463f4bb77</td>\n      <td>[{'synchronous_malignancy': 'No', 'ajcc_pathol...</td>\n      <td>{'race': 'white', 'gender': 'female', 'ethnici...</td>\n      <td>[{'karnofsky_performance_status': None, 'follo...</td>\n    </tr>\n    <tr>\n      <th>freq</th>\n      <td>1</td>\n      <td>1</td>\n      <td>1</td>\n      <td>1</td>\n      <td>1</td>\n    </tr>\n  </tbody>\n</table>\n</div>"
     },
     "execution_count": 60,
     "metadata": {},
     "output_type": "execute_result"
    }
   ],
   "source": [
    "tgsc2_df = pd.read_json('../../data/clinical.cases_selection.2022-09-28 (1).json')\n",
    "tgsc2_df.describe()"
   ],
   "metadata": {
    "collapsed": false,
    "pycharm": {
     "name": "#%%\n"
    }
   }
  }
 ],
 "metadata": {
  "kernelspec": {
   "display_name": "Python 3",
   "language": "python",
   "name": "python3"
  },
  "language_info": {
   "codemirror_mode": {
    "name": "ipython",
    "version": 2
   },
   "file_extension": ".py",
   "mimetype": "text/x-python",
   "name": "python",
   "nbconvert_exporter": "python",
   "pygments_lexer": "ipython2",
   "version": "2.7.6"
  }
 },
 "nbformat": 4,
 "nbformat_minor": 0
}