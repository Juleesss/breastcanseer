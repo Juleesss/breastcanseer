{
 "cells": [
  {
   "cell_type": "code",
   "execution_count": 2,
   "metadata": {
    "collapsed": true
   },
   "outputs": [],
   "source": [
    "import pandas as pd\n",
    "import numpy as np\n",
    "import matplotlib.pyplot as plt\n"
   ]
  },
  {
   "cell_type": "markdown",
   "source": [
    "## Paraméterek:\n",
    "\n",
    "Betegazonosító\n",
    "\n",
    "RFS hossz\n",
    "\n",
    "RFS event: 1/0\n",
    "\n",
    "OS hossz\n",
    "\n",
    "OS event: 1/0\n",
    "\n",
    "DMFS hossz?\n",
    "\n",
    "DMFS event?\n",
    "\n",
    "Szövettan\n",
    "\n",
    "Size (mm)\n",
    "\n",
    "HER2 státusz (IHC/FISH): 1/0\n",
    "\n",
    "ESR1 státusz (IHC): 1/0\n",
    "\n",
    "PGR státus (IHC): 1/0\n",
    "\n",
    "Nyirokcsomó státusz: 1/0\n",
    "\n",
    "Megvizsgált nyirokcsomók száma\n",
    "\n",
    "Pozitív nyirokcsomók száma\n",
    "\n",
    "Stage\n",
    "\n",
    "Grade\n",
    "\n",
    "T\n",
    "\n",
    "M\n",
    "\n",
    "Molekuláris altípus (PAM50) altípus\n",
    "\n",
    "Mikromet vs makromet nyirokcsomóban\n",
    "\n",
    "Vascularis invázió: 1/0\n",
    "\n",
    "MKI67\n",
    "\n",
    "Kor\n",
    "\n",
    "First malignancy\n",
    "\n",
    "Nem\n",
    "\n",
    "Race\n",
    "\n",
    "Treatment (surgery): 1/0\n",
    "\n",
    "Treatment (systemic): 1/0\n",
    "\n",
    "Hormonal treatment: AI? Tam? Other?\n",
    "\n",
    "Chemo treatment: Dox? Tax? Other? (!)\n",
    "\n",
    "Targetet treatment: Herc? Lapa? Other?"
   ],
   "metadata": {
    "collapsed": false
   }
  },
  {
   "cell_type": "code",
   "execution_count": 3,
   "outputs": [],
   "source": [
    "seer_df = pd.read_csv('data/Rita inula lekerdezes_tiszt.csv', low_memory=False)"
   ],
   "metadata": {
    "collapsed": false
   }
  },
  {
   "cell_type": "code",
   "execution_count": 4,
   "outputs": [
    {
     "data": {
      "text/plain": "                                  Research Research\\nLimited-Field  \\\nName                                                                 \nAge recode with <1 year olds           Yes                     Yes   \nRace recode (White, Black, Other)      Yes                     Yes   \nSex                                    Yes                     Yes   \nYear of diagnosis                      Yes                     Yes   \nSEER registry                           No                      No   \n\n                                  Research Plus Limited-Field  \\\nName                                                            \nAge recode with <1 year olds                              Yes   \nRace recode (White, Black, Other)                         Yes   \nSex                                                       Yes   \nYear of diagnosis                                         Yes   \nSEER registry                                             Yes   \n\n                                  Available in Case Listing NAACCR Item #  \\\nName                                                                        \nAge recode with <1 year olds                            Yes           NaN   \nRace recode (White, Black, Other)                       Yes           NaN   \nSex                                                     Yes           220   \nYear of diagnosis                                       Yes           390   \nSEER registry                                            No            40   \n\n                                                                         Description  \\\nName                                                                                   \nAge recode with <1 year olds       The age recode variable is based on Age at Dia...   \nRace recode (White, Black, Other)  Race recode is based on the race variables and...   \nSex                                Includes 1= Male and 2=Female from Sex [NAACCR...   \nYear of diagnosis                  Year of Diagnosis: values are 1973-2014 but ma...   \nSEER registry                      This field show the SEER registries which cont...   \n\n                                                                       Category name  \\\nName                                                                                   \nAge recode with <1 year olds       Age at Diagnosis\\n(or Race and Age (case data ...   \nRace recode (White, Black, Other)               Race, Sex, Year Dx, Registry, County   \nSex                                             Race, Sex, Year Dx, Registry, County   \nYear of diagnosis                               Race, Sex, Year Dx, Registry, County   \nSEER registry                                   Race, Sex, Year Dx, Registry, County   \n\n                                   Unnamed: 8  \nName                                           \nAge recode with <1 year olds              1.0  \nRace recode (White, Black, Other)         2.0  \nSex                                       3.0  \nYear of diagnosis                         4.0  \nSEER registry                             5.0  ",
      "text/html": "<div>\n<style scoped>\n    .dataframe tbody tr th:only-of-type {\n        vertical-align: middle;\n    }\n\n    .dataframe tbody tr th {\n        vertical-align: top;\n    }\n\n    .dataframe thead th {\n        text-align: right;\n    }\n</style>\n<table border=\"1\" class=\"dataframe\">\n  <thead>\n    <tr style=\"text-align: right;\">\n      <th></th>\n      <th>Research</th>\n      <th>Research\\nLimited-Field</th>\n      <th>Research Plus Limited-Field</th>\n      <th>Available in Case Listing</th>\n      <th>NAACCR Item #</th>\n      <th>Description</th>\n      <th>Category name</th>\n      <th>Unnamed: 8</th>\n    </tr>\n    <tr>\n      <th>Name</th>\n      <th></th>\n      <th></th>\n      <th></th>\n      <th></th>\n      <th></th>\n      <th></th>\n      <th></th>\n      <th></th>\n    </tr>\n  </thead>\n  <tbody>\n    <tr>\n      <th>Age recode with &lt;1 year olds</th>\n      <td>Yes</td>\n      <td>Yes</td>\n      <td>Yes</td>\n      <td>Yes</td>\n      <td>NaN</td>\n      <td>The age recode variable is based on Age at Dia...</td>\n      <td>Age at Diagnosis\\n(or Race and Age (case data ...</td>\n      <td>1.0</td>\n    </tr>\n    <tr>\n      <th>Race recode (White, Black, Other)</th>\n      <td>Yes</td>\n      <td>Yes</td>\n      <td>Yes</td>\n      <td>Yes</td>\n      <td>NaN</td>\n      <td>Race recode is based on the race variables and...</td>\n      <td>Race, Sex, Year Dx, Registry, County</td>\n      <td>2.0</td>\n    </tr>\n    <tr>\n      <th>Sex</th>\n      <td>Yes</td>\n      <td>Yes</td>\n      <td>Yes</td>\n      <td>Yes</td>\n      <td>220</td>\n      <td>Includes 1= Male and 2=Female from Sex [NAACCR...</td>\n      <td>Race, Sex, Year Dx, Registry, County</td>\n      <td>3.0</td>\n    </tr>\n    <tr>\n      <th>Year of diagnosis</th>\n      <td>Yes</td>\n      <td>Yes</td>\n      <td>Yes</td>\n      <td>Yes</td>\n      <td>390</td>\n      <td>Year of Diagnosis: values are 1973-2014 but ma...</td>\n      <td>Race, Sex, Year Dx, Registry, County</td>\n      <td>4.0</td>\n    </tr>\n    <tr>\n      <th>SEER registry</th>\n      <td>No</td>\n      <td>No</td>\n      <td>Yes</td>\n      <td>No</td>\n      <td>40</td>\n      <td>This field show the SEER registries which cont...</td>\n      <td>Race, Sex, Year Dx, Registry, County</td>\n      <td>5.0</td>\n    </tr>\n  </tbody>\n</table>\n</div>"
     },
     "execution_count": 4,
     "metadata": {},
     "output_type": "execute_result"
    }
   ],
   "source": [
    "seer_metada_df = pd.read_csv('data/seerstat-variables.csv', low_memory=False, index_col=0, header=7)\n",
    "seer_metada_df.head()"
   ],
   "metadata": {
    "collapsed": false
   }
  },
  {
   "cell_type": "code",
   "execution_count": 5,
   "outputs": [
    {
     "data": {
      "text/plain": "(1143556, 161)"
     },
     "execution_count": 5,
     "metadata": {},
     "output_type": "execute_result"
    }
   ],
   "source": [
    "seer_df.shape"
   ],
   "metadata": {
    "collapsed": false
   }
  },
  {
   "cell_type": "code",
   "execution_count": 6,
   "outputs": [
    {
     "data": {
      "text/plain": "  Age recode with <1 year olds     Sex PRCDA 2017 Race recode (W, B, AI, API)  \\\n0                  75-79 years  Female  Not PRCDA                       White   \n1                  70-74 years  Female  Not PRCDA                       White   \n2                  60-64 years  Female  Not PRCDA                       White   \n3                  70-74 years  Female  Not PRCDA                       White   \n4                  40-44 years  Female  Not PRCDA                       White   \n\n   Year of diagnosis Site recode ICD-O-3/WHO 2008 Behavior code ICD-O-3  \\\n0               2003                       Breast             Malignant   \n1               2018                       Breast             Malignant   \n2               2005                       Breast             Malignant   \n3               2005                       Breast             Malignant   \n4               2001                       Breast             Malignant   \n\n      AYA site recode 2020 Revision CS Schema - AJCC 6th Edition  \\\n0            9.6.3 Breast - lobular                       Breast   \n1  9.6.1 Breast - infiltrating duct                       Breast   \n2            9.6.3 Breast - lobular                       Breast   \n3  9.6.1 Breast - infiltrating duct                       Breast   \n4          9.6.5 Breast - medullary                       Breast   \n\n                 Primary Site - labeled  ...  SS seq # - mal (least detail)  \\\n0         C50.6-Axillary tail of breast  ...                              1   \n1    C50.8-Overlapping lesion of breast  ...                              1   \n2       C50.1-Central portion of breast  ...                              1   \n3                     C50.9-Breast, NOS  ...                              1   \n4  C50.4-Upper-outer quadrant of breast  ...                              1   \n\n   SS seq # 1975+ - mal (least detail) SS seq # 1992+ - mal (least detail)  \\\n0                                    1                                   1   \n1                                    1                                   1   \n2                                    1                                   1   \n3                                    1                                   1   \n4                                    1                                   1   \n\n  SS seq # 2000+ - mal (least detail) Site - malignant (least detail)  \\\n0                                   1                    Breast - mal   \n1                                   1                    Breast - mal   \n2                                   1                    Breast - mal   \n3                                   1                    Breast - mal   \n4                                   1                    Breast - mal   \n\n  Patient ID                 Type of Reporting Source  \\\n0         55  Hospital inpatient/outpatient or clinic   \n1        141  Hospital inpatient/outpatient or clinic   \n2        180  Hospital inpatient/outpatient or clinic   \n3        194  Hospital inpatient/outpatient or clinic   \n4        210  Hospital inpatient/outpatient or clinic   \n\n                        CoC Accredited Flag (2018+)  \\\n0                                          Blank(s)   \n1  Abstract from facility WITHOUT CoC accreditation   \n2                                          Blank(s)   \n3                                          Blank(s)   \n4                                          Blank(s)   \n\n  Median household income inflation adj to 2019  \\\n0                                      $75,000+   \n1                                      $75,000+   \n2                                      $75,000+   \n3                                      $75,000+   \n4                                      $75,000+   \n\n                        Rural-Urban Continuum Code  \n0  Counties in metropolitan areas ge 1 million pop  \n1  Counties in metropolitan areas ge 1 million pop  \n2  Counties in metropolitan areas ge 1 million pop  \n3  Counties in metropolitan areas ge 1 million pop  \n4  Counties in metropolitan areas ge 1 million pop  \n\n[5 rows x 161 columns]",
      "text/html": "<div>\n<style scoped>\n    .dataframe tbody tr th:only-of-type {\n        vertical-align: middle;\n    }\n\n    .dataframe tbody tr th {\n        vertical-align: top;\n    }\n\n    .dataframe thead th {\n        text-align: right;\n    }\n</style>\n<table border=\"1\" class=\"dataframe\">\n  <thead>\n    <tr style=\"text-align: right;\">\n      <th></th>\n      <th>Age recode with &lt;1 year olds</th>\n      <th>Sex</th>\n      <th>PRCDA 2017</th>\n      <th>Race recode (W, B, AI, API)</th>\n      <th>Year of diagnosis</th>\n      <th>Site recode ICD-O-3/WHO 2008</th>\n      <th>Behavior code ICD-O-3</th>\n      <th>AYA site recode 2020 Revision</th>\n      <th>CS Schema - AJCC 6th Edition</th>\n      <th>Primary Site - labeled</th>\n      <th>...</th>\n      <th>SS seq # - mal (least detail)</th>\n      <th>SS seq # 1975+ - mal (least detail)</th>\n      <th>SS seq # 1992+ - mal (least detail)</th>\n      <th>SS seq # 2000+ - mal (least detail)</th>\n      <th>Site - malignant (least detail)</th>\n      <th>Patient ID</th>\n      <th>Type of Reporting Source</th>\n      <th>CoC Accredited Flag (2018+)</th>\n      <th>Median household income inflation adj to 2019</th>\n      <th>Rural-Urban Continuum Code</th>\n    </tr>\n  </thead>\n  <tbody>\n    <tr>\n      <th>0</th>\n      <td>75-79 years</td>\n      <td>Female</td>\n      <td>Not PRCDA</td>\n      <td>White</td>\n      <td>2003</td>\n      <td>Breast</td>\n      <td>Malignant</td>\n      <td>9.6.3 Breast - lobular</td>\n      <td>Breast</td>\n      <td>C50.6-Axillary tail of breast</td>\n      <td>...</td>\n      <td>1</td>\n      <td>1</td>\n      <td>1</td>\n      <td>1</td>\n      <td>Breast - mal</td>\n      <td>55</td>\n      <td>Hospital inpatient/outpatient or clinic</td>\n      <td>Blank(s)</td>\n      <td>$75,000+</td>\n      <td>Counties in metropolitan areas ge 1 million pop</td>\n    </tr>\n    <tr>\n      <th>1</th>\n      <td>70-74 years</td>\n      <td>Female</td>\n      <td>Not PRCDA</td>\n      <td>White</td>\n      <td>2018</td>\n      <td>Breast</td>\n      <td>Malignant</td>\n      <td>9.6.1 Breast - infiltrating duct</td>\n      <td>Breast</td>\n      <td>C50.8-Overlapping lesion of breast</td>\n      <td>...</td>\n      <td>1</td>\n      <td>1</td>\n      <td>1</td>\n      <td>1</td>\n      <td>Breast - mal</td>\n      <td>141</td>\n      <td>Hospital inpatient/outpatient or clinic</td>\n      <td>Abstract from facility WITHOUT CoC accreditation</td>\n      <td>$75,000+</td>\n      <td>Counties in metropolitan areas ge 1 million pop</td>\n    </tr>\n    <tr>\n      <th>2</th>\n      <td>60-64 years</td>\n      <td>Female</td>\n      <td>Not PRCDA</td>\n      <td>White</td>\n      <td>2005</td>\n      <td>Breast</td>\n      <td>Malignant</td>\n      <td>9.6.3 Breast - lobular</td>\n      <td>Breast</td>\n      <td>C50.1-Central portion of breast</td>\n      <td>...</td>\n      <td>1</td>\n      <td>1</td>\n      <td>1</td>\n      <td>1</td>\n      <td>Breast - mal</td>\n      <td>180</td>\n      <td>Hospital inpatient/outpatient or clinic</td>\n      <td>Blank(s)</td>\n      <td>$75,000+</td>\n      <td>Counties in metropolitan areas ge 1 million pop</td>\n    </tr>\n    <tr>\n      <th>3</th>\n      <td>70-74 years</td>\n      <td>Female</td>\n      <td>Not PRCDA</td>\n      <td>White</td>\n      <td>2005</td>\n      <td>Breast</td>\n      <td>Malignant</td>\n      <td>9.6.1 Breast - infiltrating duct</td>\n      <td>Breast</td>\n      <td>C50.9-Breast, NOS</td>\n      <td>...</td>\n      <td>1</td>\n      <td>1</td>\n      <td>1</td>\n      <td>1</td>\n      <td>Breast - mal</td>\n      <td>194</td>\n      <td>Hospital inpatient/outpatient or clinic</td>\n      <td>Blank(s)</td>\n      <td>$75,000+</td>\n      <td>Counties in metropolitan areas ge 1 million pop</td>\n    </tr>\n    <tr>\n      <th>4</th>\n      <td>40-44 years</td>\n      <td>Female</td>\n      <td>Not PRCDA</td>\n      <td>White</td>\n      <td>2001</td>\n      <td>Breast</td>\n      <td>Malignant</td>\n      <td>9.6.5 Breast - medullary</td>\n      <td>Breast</td>\n      <td>C50.4-Upper-outer quadrant of breast</td>\n      <td>...</td>\n      <td>1</td>\n      <td>1</td>\n      <td>1</td>\n      <td>1</td>\n      <td>Breast - mal</td>\n      <td>210</td>\n      <td>Hospital inpatient/outpatient or clinic</td>\n      <td>Blank(s)</td>\n      <td>$75,000+</td>\n      <td>Counties in metropolitan areas ge 1 million pop</td>\n    </tr>\n  </tbody>\n</table>\n<p>5 rows × 161 columns</p>\n</div>"
     },
     "execution_count": 6,
     "metadata": {},
     "output_type": "execute_result"
    }
   ],
   "source": [
    "seer_df.head()"
   ],
   "metadata": {
    "collapsed": false
   }
  },
  {
   "cell_type": "code",
   "execution_count": 7,
   "outputs": [
    {
     "data": {
      "text/plain": "       Year of diagnosis  Primary Site  Histologic Type ICD-O-3  \\\ncount       1.143556e+06  1.143556e+06             1.143556e+06   \nmean        1.377166e+03  3.463283e+02             8.333586e+03   \nstd         9.329956e+02  2.346362e+02             2.395270e+02   \nmin         0.000000e+00  0.000000e+00             8.000000e+03   \n25%         0.000000e+00  0.000000e+00             8.000000e+03   \n50%         2.005000e+03  5.040000e+02             8.500000e+03   \n75%         2.012000e+03  5.080000e+02             8.500000e+03   \nmax         2.018000e+03  5.090000e+02             9.581000e+03   \n\n       RX Summ--Surg Prim Site (1998+)  Regional nodes examined (1988+)  \\\ncount                     1.143556e+06                     1.143556e+06   \nmean                      2.108072e+01                     6.268425e+00   \nstd                       1.986441e+01                     1.537383e+01   \nmin                       0.000000e+00                     0.000000e+00   \n25%                       0.000000e+00                     0.000000e+00   \n50%                       2.200000e+01                     1.000000e+00   \n75%                       4.100000e+01                     6.000000e+00   \nmax                       9.900000e+01                     9.900000e+01   \n\n       Regional nodes positive (1988+)  Record number recode  \\\ncount                     1.143556e+06          1.143556e+06   \nmean                      1.193979e+01          8.170356e-01   \nstd                       3.107668e+01          6.752319e-01   \nmin                       0.000000e+00          0.000000e+00   \n25%                       0.000000e+00          0.000000e+00   \n50%                       0.000000e+00          1.000000e+00   \n75%                       1.000000e+00          1.000000e+00   \nmax                       9.900000e+01          1.400000e+01   \n\n       Total number of benign/borderline tumors for patient  \\\ncount                                       1.143556e+06      \nmean                                        4.549843e-03      \nstd                                         7.039805e-02      \nmin                                         0.000000e+00      \n25%                                         0.000000e+00      \n50%                                         0.000000e+00      \n75%                                         0.000000e+00      \nmax                                         5.000000e+00      \n\n       SS seq # - mal+ins (most detail)  \\\ncount                      1.143556e+06   \nmean                       7.621909e-01   \nstd                        5.891552e-01   \nmin                        0.000000e+00   \n25%                        0.000000e+00   \n50%                        1.000000e+00   \n75%                        1.000000e+00   \nmax                        6.000000e+00   \n\n       SS seq # 1975+ - mal+ins (most detail)  ...  \\\ncount                            1.143556e+06  ...   \nmean                             7.620650e-01  ...   \nstd                              5.889856e-01  ...   \nmin                              0.000000e+00  ...   \n25%                              0.000000e+00  ...   \n50%                              1.000000e+00  ...   \n75%                              1.000000e+00  ...   \nmax                              6.000000e+00  ...   \n\n       SS seq # 2000+ - mal (mid detail)  SS seq # - mal+ins (least detail)  \\\ncount                       1.143556e+06                       1.143556e+06   \nmean                        7.219034e-01                       7.621909e-01   \nstd                         5.251971e-01                       5.891552e-01   \nmin                         0.000000e+00                       0.000000e+00   \n25%                         0.000000e+00                       0.000000e+00   \n50%                         1.000000e+00                       1.000000e+00   \n75%                         1.000000e+00                       1.000000e+00   \nmax                         5.000000e+00                       6.000000e+00   \n\n       SS seq # 1975+ - mal+ins (least detail)  \\\ncount                             1.143556e+06   \nmean                              7.620641e-01   \nstd                               5.889859e-01   \nmin                               0.000000e+00   \n25%                               0.000000e+00   \n50%                               1.000000e+00   \n75%                               1.000000e+00   \nmax                               6.000000e+00   \n\n       SS seq # 1992+ - mal+ins (least detail)  \\\ncount                             1.143556e+06   \nmean                              7.540942e-01   \nstd                               5.768575e-01   \nmin                               0.000000e+00   \n25%                               0.000000e+00   \n50%                               1.000000e+00   \n75%                               1.000000e+00   \nmax                               6.000000e+00   \n\n       SS seq # 2000+ - mal+ins (least detail)  SS seq # - mal (least detail)  \\\ncount                             1.143556e+06                   1.143556e+06   \nmean                              7.331158e-01                   7.444638e-01   \nstd                               5.439338e-01                   5.605715e-01   \nmin                               0.000000e+00                   0.000000e+00   \n25%                               0.000000e+00                   0.000000e+00   \n50%                               1.000000e+00                   1.000000e+00   \n75%                               1.000000e+00                   1.000000e+00   \nmax                               6.000000e+00                   5.000000e+00   \n\n       SS seq # 1975+ - mal (least detail)  \\\ncount                         1.143556e+06   \nmean                          7.443448e-01   \nstd                           5.604018e-01   \nmin                           0.000000e+00   \n25%                           0.000000e+00   \n50%                           1.000000e+00   \n75%                           1.000000e+00   \nmax                           5.000000e+00   \n\n       SS seq # 1992+ - mal (least detail)  \\\ncount                         1.143556e+06   \nmean                          7.377487e-01   \nstd                           5.502565e-01   \nmin                           0.000000e+00   \n25%                           0.000000e+00   \n50%                           1.000000e+00   \n75%                           1.000000e+00   \nmax                           5.000000e+00   \n\n       SS seq # 2000+ - mal (least detail)    Patient ID  \ncount                         1.143556e+06  1.143556e+06  \nmean                          7.219034e-01  1.901859e+07  \nstd                           5.251971e-01  1.772780e+07  \nmin                           0.000000e+00  0.000000e+00  \n25%                           0.000000e+00  0.000000e+00  \n50%                           1.000000e+00  1.764993e+07  \n75%                           1.000000e+00  3.583367e+07  \nmax                           5.000000e+00  4.593531e+07  \n\n[8 rows x 33 columns]",
      "text/html": "<div>\n<style scoped>\n    .dataframe tbody tr th:only-of-type {\n        vertical-align: middle;\n    }\n\n    .dataframe tbody tr th {\n        vertical-align: top;\n    }\n\n    .dataframe thead th {\n        text-align: right;\n    }\n</style>\n<table border=\"1\" class=\"dataframe\">\n  <thead>\n    <tr style=\"text-align: right;\">\n      <th></th>\n      <th>Year of diagnosis</th>\n      <th>Primary Site</th>\n      <th>Histologic Type ICD-O-3</th>\n      <th>RX Summ--Surg Prim Site (1998+)</th>\n      <th>Regional nodes examined (1988+)</th>\n      <th>Regional nodes positive (1988+)</th>\n      <th>Record number recode</th>\n      <th>Total number of benign/borderline tumors for patient</th>\n      <th>SS seq # - mal+ins (most detail)</th>\n      <th>SS seq # 1975+ - mal+ins (most detail)</th>\n      <th>...</th>\n      <th>SS seq # 2000+ - mal (mid detail)</th>\n      <th>SS seq # - mal+ins (least detail)</th>\n      <th>SS seq # 1975+ - mal+ins (least detail)</th>\n      <th>SS seq # 1992+ - mal+ins (least detail)</th>\n      <th>SS seq # 2000+ - mal+ins (least detail)</th>\n      <th>SS seq # - mal (least detail)</th>\n      <th>SS seq # 1975+ - mal (least detail)</th>\n      <th>SS seq # 1992+ - mal (least detail)</th>\n      <th>SS seq # 2000+ - mal (least detail)</th>\n      <th>Patient ID</th>\n    </tr>\n  </thead>\n  <tbody>\n    <tr>\n      <th>count</th>\n      <td>1.143556e+06</td>\n      <td>1.143556e+06</td>\n      <td>1.143556e+06</td>\n      <td>1.143556e+06</td>\n      <td>1.143556e+06</td>\n      <td>1.143556e+06</td>\n      <td>1.143556e+06</td>\n      <td>1.143556e+06</td>\n      <td>1.143556e+06</td>\n      <td>1.143556e+06</td>\n      <td>...</td>\n      <td>1.143556e+06</td>\n      <td>1.143556e+06</td>\n      <td>1.143556e+06</td>\n      <td>1.143556e+06</td>\n      <td>1.143556e+06</td>\n      <td>1.143556e+06</td>\n      <td>1.143556e+06</td>\n      <td>1.143556e+06</td>\n      <td>1.143556e+06</td>\n      <td>1.143556e+06</td>\n    </tr>\n    <tr>\n      <th>mean</th>\n      <td>1.377166e+03</td>\n      <td>3.463283e+02</td>\n      <td>8.333586e+03</td>\n      <td>2.108072e+01</td>\n      <td>6.268425e+00</td>\n      <td>1.193979e+01</td>\n      <td>8.170356e-01</td>\n      <td>4.549843e-03</td>\n      <td>7.621909e-01</td>\n      <td>7.620650e-01</td>\n      <td>...</td>\n      <td>7.219034e-01</td>\n      <td>7.621909e-01</td>\n      <td>7.620641e-01</td>\n      <td>7.540942e-01</td>\n      <td>7.331158e-01</td>\n      <td>7.444638e-01</td>\n      <td>7.443448e-01</td>\n      <td>7.377487e-01</td>\n      <td>7.219034e-01</td>\n      <td>1.901859e+07</td>\n    </tr>\n    <tr>\n      <th>std</th>\n      <td>9.329956e+02</td>\n      <td>2.346362e+02</td>\n      <td>2.395270e+02</td>\n      <td>1.986441e+01</td>\n      <td>1.537383e+01</td>\n      <td>3.107668e+01</td>\n      <td>6.752319e-01</td>\n      <td>7.039805e-02</td>\n      <td>5.891552e-01</td>\n      <td>5.889856e-01</td>\n      <td>...</td>\n      <td>5.251971e-01</td>\n      <td>5.891552e-01</td>\n      <td>5.889859e-01</td>\n      <td>5.768575e-01</td>\n      <td>5.439338e-01</td>\n      <td>5.605715e-01</td>\n      <td>5.604018e-01</td>\n      <td>5.502565e-01</td>\n      <td>5.251971e-01</td>\n      <td>1.772780e+07</td>\n    </tr>\n    <tr>\n      <th>min</th>\n      <td>0.000000e+00</td>\n      <td>0.000000e+00</td>\n      <td>8.000000e+03</td>\n      <td>0.000000e+00</td>\n      <td>0.000000e+00</td>\n      <td>0.000000e+00</td>\n      <td>0.000000e+00</td>\n      <td>0.000000e+00</td>\n      <td>0.000000e+00</td>\n      <td>0.000000e+00</td>\n      <td>...</td>\n      <td>0.000000e+00</td>\n      <td>0.000000e+00</td>\n      <td>0.000000e+00</td>\n      <td>0.000000e+00</td>\n      <td>0.000000e+00</td>\n      <td>0.000000e+00</td>\n      <td>0.000000e+00</td>\n      <td>0.000000e+00</td>\n      <td>0.000000e+00</td>\n      <td>0.000000e+00</td>\n    </tr>\n    <tr>\n      <th>25%</th>\n      <td>0.000000e+00</td>\n      <td>0.000000e+00</td>\n      <td>8.000000e+03</td>\n      <td>0.000000e+00</td>\n      <td>0.000000e+00</td>\n      <td>0.000000e+00</td>\n      <td>0.000000e+00</td>\n      <td>0.000000e+00</td>\n      <td>0.000000e+00</td>\n      <td>0.000000e+00</td>\n      <td>...</td>\n      <td>0.000000e+00</td>\n      <td>0.000000e+00</td>\n      <td>0.000000e+00</td>\n      <td>0.000000e+00</td>\n      <td>0.000000e+00</td>\n      <td>0.000000e+00</td>\n      <td>0.000000e+00</td>\n      <td>0.000000e+00</td>\n      <td>0.000000e+00</td>\n      <td>0.000000e+00</td>\n    </tr>\n    <tr>\n      <th>50%</th>\n      <td>2.005000e+03</td>\n      <td>5.040000e+02</td>\n      <td>8.500000e+03</td>\n      <td>2.200000e+01</td>\n      <td>1.000000e+00</td>\n      <td>0.000000e+00</td>\n      <td>1.000000e+00</td>\n      <td>0.000000e+00</td>\n      <td>1.000000e+00</td>\n      <td>1.000000e+00</td>\n      <td>...</td>\n      <td>1.000000e+00</td>\n      <td>1.000000e+00</td>\n      <td>1.000000e+00</td>\n      <td>1.000000e+00</td>\n      <td>1.000000e+00</td>\n      <td>1.000000e+00</td>\n      <td>1.000000e+00</td>\n      <td>1.000000e+00</td>\n      <td>1.000000e+00</td>\n      <td>1.764993e+07</td>\n    </tr>\n    <tr>\n      <th>75%</th>\n      <td>2.012000e+03</td>\n      <td>5.080000e+02</td>\n      <td>8.500000e+03</td>\n      <td>4.100000e+01</td>\n      <td>6.000000e+00</td>\n      <td>1.000000e+00</td>\n      <td>1.000000e+00</td>\n      <td>0.000000e+00</td>\n      <td>1.000000e+00</td>\n      <td>1.000000e+00</td>\n      <td>...</td>\n      <td>1.000000e+00</td>\n      <td>1.000000e+00</td>\n      <td>1.000000e+00</td>\n      <td>1.000000e+00</td>\n      <td>1.000000e+00</td>\n      <td>1.000000e+00</td>\n      <td>1.000000e+00</td>\n      <td>1.000000e+00</td>\n      <td>1.000000e+00</td>\n      <td>3.583367e+07</td>\n    </tr>\n    <tr>\n      <th>max</th>\n      <td>2.018000e+03</td>\n      <td>5.090000e+02</td>\n      <td>9.581000e+03</td>\n      <td>9.900000e+01</td>\n      <td>9.900000e+01</td>\n      <td>9.900000e+01</td>\n      <td>1.400000e+01</td>\n      <td>5.000000e+00</td>\n      <td>6.000000e+00</td>\n      <td>6.000000e+00</td>\n      <td>...</td>\n      <td>5.000000e+00</td>\n      <td>6.000000e+00</td>\n      <td>6.000000e+00</td>\n      <td>6.000000e+00</td>\n      <td>6.000000e+00</td>\n      <td>5.000000e+00</td>\n      <td>5.000000e+00</td>\n      <td>5.000000e+00</td>\n      <td>5.000000e+00</td>\n      <td>4.593531e+07</td>\n    </tr>\n  </tbody>\n</table>\n<p>8 rows × 33 columns</p>\n</div>"
     },
     "execution_count": 7,
     "metadata": {},
     "output_type": "execute_result"
    }
   ],
   "source": [
    "seer_df.describe()"
   ],
   "metadata": {
    "collapsed": false
   }
  },
  {
   "cell_type": "code",
   "execution_count": 8,
   "outputs": [
    {
     "data": {
      "text/plain": "(783817, 161)"
     },
     "execution_count": 8,
     "metadata": {},
     "output_type": "execute_result"
    }
   ],
   "source": [
    "seer_df.drop_duplicates(keep='first', inplace=True)\n",
    "seer_df.replace('Blank(s)', np.nan, inplace=True)\n",
    "seer_df.shape"
   ],
   "metadata": {
    "collapsed": false
   }
  },
  {
   "cell_type": "code",
   "execution_count": 9,
   "outputs": [
    {
     "name": "stdout",
     "output_type": "stream",
     "text": [
      "['Age recode with <1 year olds' 'Sex' 'PRCDA 2017'\n",
      " 'Race recode (W, B, AI, API)' 'Year of diagnosis'\n",
      " 'Site recode ICD-O-3/WHO 2008' 'Behavior code ICD-O-3'\n",
      " 'AYA site recode 2020 Revision' 'CS Schema - AJCC 6th Edition'\n",
      " 'Primary Site - labeled' 'Primary Site' 'Histologic Type ICD-O-3'\n",
      " 'Behavior recode for analysis' 'Grade (thru 2017)'\n",
      " 'Grade Clinical (2018+)' 'Diagnostic Confirmation' 'ICD-O-3 Hist/behav'\n",
      " 'Site recode - rare tumors' 'Combined Summary Stage (2004+)'\n",
      " 'Summary stage 2000 (1998-2017)'\n",
      " 'SEER Combined Summary Stage 2000 (2004-2017)'\n",
      " 'SEER historic stage A (1973-2015)' 'Derived EOD 2018 T (2018+)'\n",
      " 'Derived EOD 2018 N (2018+)' 'Derived EOD 2018 M (2018+)'\n",
      " 'Derived EOD 2018 Stage Group (2018+)'\n",
      " 'Derived AJCC Stage Group, 7th ed (2010-2015)'\n",
      " 'Derived AJCC T, 7th ed (2010-2015)' 'Derived AJCC N, 7th ed (2010-2015)'\n",
      " 'Derived AJCC M, 7th ed (2010-2015)'\n",
      " 'Derived SEER Cmb Stg Grp (2016-2017)'\n",
      " 'Derived SEER Combined T (2016-2017)'\n",
      " 'Derived SEER Combined N (2016-2017)'\n",
      " 'Derived SEER Combined M (2016-2017)'\n",
      " 'Derived SEER Combined T Src (2016-2017)'\n",
      " 'Derived SEER Combined N Src (2016-2017)'\n",
      " 'Derived SEER Combined M Src (2016-2017)'\n",
      " 'Breast - Adjusted AJCC 6th Stage (1988-2015)'\n",
      " 'Breast - Adjusted AJCC 6th T (1988-2015)'\n",
      " 'Breast - Adjusted AJCC 6th N (1988-2015)'\n",
      " 'Breast - Adjusted AJCC 6th M (1988-2015)'\n",
      " 'Derived AJCC T, 6th ed (2004-2015)' 'Derived AJCC N, 6th ed (2004-2015)'\n",
      " 'Derived AJCC M, 6th ed (2004-2015)'\n",
      " 'Lymphoma - Ann Arbor Stage (1983-2015)'\n",
      " 'AJCC stage 3rd edition (1988-2003)'\n",
      " 'SEER modified AJCC stage 3rd (1988-2003)'\n",
      " 'T value - based on AJCC 3rd (1988-2003)'\n",
      " 'N value - based on AJCC 3rd (1988-2003)'\n",
      " 'M value - based on AJCC 3rd (1988-2003)'\n",
      " 'RX Summ--Surg Prim Site (1998+)' 'Reason no cancer-directed surgery'\n",
      " 'Scope of reg lymph nd surg (1998-2002)'\n",
      " 'RX Summ--Reg LN Examined (1998-2002)'\n",
      " 'Surgery of oth reg/dis sites (1998-2002)'\n",
      " 'Site specific surgery (1973-1997 varying detail by year and site)'\n",
      " 'CEA Pretreatment Interpretation Recode (2010+)'\n",
      " 'CA-125 Pretreatment Interpretation Recode (2010+)'\n",
      " 'Fibrosis Score Recode (2010+)' 'Invasion Beyond Capsule Recode (2010+)'\n",
      " 'Lymph Node Size Recode (2010+)'\n",
      " 'Peripheral Blood Involvement Recode (2010+)'\n",
      " 'Sarcomatoid Features Recode (2010+)'\n",
      " 'Separate Tumor Nodules Ipsilateral Lung Recode (2010+)'\n",
      " 'Visceral and Parietal Pleural Invasion Recode (2010+)'\n",
      " 'EOD Primary Tumor (2018+)' 'EOD Regional Nodes (2018+)'\n",
      " 'EOD Mets (2018+)' 'Tumor Size Summary (2016+)'\n",
      " 'Regional nodes examined (1988+)' 'Regional nodes positive (1988+)'\n",
      " 'SEER Combined Mets at DX-bone (2010+)'\n",
      " 'SEER Combined Mets at DX-brain (2010+)'\n",
      " 'SEER Combined Mets at DX-liver (2010+)'\n",
      " 'SEER Combined Mets at DX-lung (2010+)' 'Breast Subtype (2010+)'\n",
      " 'ER Status Recode Breast Cancer (1990+)'\n",
      " 'PR Status Recode Breast Cancer (1990+)' 'Derived HER2 Recode (2010+)'\n",
      " 'CS tumor size (2004-2015)' 'CS extension (2004-2015)'\n",
      " 'CS lymph nodes (2004-2015)' 'CS mets at dx (2004-2015)'\n",
      " 'CS Tumor Size/Ext Eval (2004-2015)' 'CS Reg Node Eval (2004-2015)'\n",
      " 'CS Mets Eval (2004-2015)'\n",
      " 'CS site-specific factor 2 (2004-2017 varying by schema)'\n",
      " 'CS site-specific factor 3 (2004-2017 varying by schema)'\n",
      " 'CS site-specific factor 4 (2004-2017 varying by schema)'\n",
      " 'CS site-specific factor 5 (2004-2017 varying by schema)'\n",
      " 'CS site-specific factor 6 (2004-2017 varying by schema)'\n",
      " 'CS site-specific factor 7 (2004-2017 varying by schema)'\n",
      " 'CS site-specific factor 8 (2004-2017 varying by schema)'\n",
      " 'CS site-specific factor 1 (2004-2017 varying by schema)'\n",
      " 'CS version input current (2004-2015)'\n",
      " 'CS version input original (2004-2015)' 'CS version derived (2004-2015)'\n",
      " 'EOD 10 - extent (1988-2003)' 'EOD 10 - nodes (1988-2003)'\n",
      " 'EOD 10 - size (1988-2003)' 'Tumor marker 1 (1990-2003)'\n",
      " 'Tumor marker 2 (1990-2003)' 'Tumor marker 3 (1998-2003)'\n",
      " 'Coding system-EOD (1973-2003)' 'EOD 4 - extent (1983-1987)'\n",
      " 'EOD 4 - nodes (1983-1987)' 'EOD 4 - size (1983-1987)'\n",
      " 'COD to site recode' 'SEER cause-specific death classification'\n",
      " 'SEER other cause of death classification' 'Survival months'\n",
      " 'COD to site rec KM' 'Vital status recode (study cutoff used)'\n",
      " 'Sequence number' 'First malignant primary indicator'\n",
      " 'Primary by international rules' 'Record number recode'\n",
      " 'Total number of in situ/malignant tumors for patient'\n",
      " 'Total number of benign/borderline tumors for patient'\n",
      " 'Behavior code ICD-O-2' 'Histology ICD-O-2'\n",
      " 'Lymphoma subtype recode/WHO 2008 (thru 2017)'\n",
      " 'Race recode (White, Black, Other)' 'Age recode with single ages and 85+'\n",
      " 'Race/ethnicity' 'IHS Link' 'SS seq # - mal+ins (most detail)'\n",
      " 'SS seq # 1975+ - mal+ins (most detail)'\n",
      " 'SS seq # 1992+ - mal+ins (most detail)'\n",
      " 'SS seq # 2000+ - mal+ins (most detail)' 'Site - mal+ins (most detail)'\n",
      " 'SS seq # - mal (most detail)' 'SS seq # 1975+ - mal (most detail)'\n",
      " 'SS seq # 1992+ - mal (most detail)' 'SS seq # 2000+ - mal (most detail)'\n",
      " 'Site - malignant (most detail)' 'SS seq # - mal+ins (mid detail)'\n",
      " 'SS seq # 1975+ - mal+ins (mid detail)'\n",
      " 'SS seq # 1992+ - mal+ins (mid detail)'\n",
      " 'SS seq # 2000+ - mal+ins (mid detail)' 'Site - mal+ins (mid detail)'\n",
      " 'SS seq # - mal (mid detail)' 'SS seq # 1975+ - mal (mid detail)'\n",
      " 'SS seq # 1992+ - mal (mid detail)' 'SS seq # 2000+ - mal (mid detail)'\n",
      " 'Site - malignant (mid detail)' 'SS seq # - mal+ins (least detail)'\n",
      " 'SS seq # 1975+ - mal+ins (least detail)'\n",
      " 'SS seq # 1992+ - mal+ins (least detail)'\n",
      " 'SS seq # 2000+ - mal+ins (least detail)' 'Site - mal+ins (least detail)'\n",
      " 'SS seq # - mal (least detail)' 'SS seq # 1975+ - mal (least detail)'\n",
      " 'SS seq # 1992+ - mal (least detail)'\n",
      " 'SS seq # 2000+ - mal (least detail)' 'Site - malignant (least detail)'\n",
      " 'Patient ID' 'Type of Reporting Source' 'CoC Accredited Flag (2018+)'\n",
      " 'Median household income inflation adj to 2019'\n",
      " 'Rural-Urban Continuum Code']\n"
     ]
    }
   ],
   "source": [
    "print(seer_df.columns.values)"
   ],
   "metadata": {
    "collapsed": false
   }
  },
  {
   "cell_type": "code",
   "execution_count": 10,
   "outputs": [],
   "source": [
    "seer_df.drop(\n",
    "    [\n",
    "        'Rural-Urban Continuum Code',\n",
    "        'Median household income inflation adj to 2019',\n",
    "\n",
    "\n",
    "    ],\n",
    "    inplace=True,\n",
    "    axis=1\n",
    ")"
   ],
   "metadata": {
    "collapsed": false
   }
  },
  {
   "cell_type": "code",
   "execution_count": 11,
   "outputs": [],
   "source": [
    "testun = seer_df['Race recode (White, Black, Other)'].value_counts()"
   ],
   "metadata": {
    "collapsed": false
   }
  },
  {
   "cell_type": "code",
   "execution_count": 11,
   "outputs": [],
   "source": [],
   "metadata": {
    "collapsed": false
   }
  },
  {
   "cell_type": "code",
   "execution_count": 12,
   "outputs": [
    {
     "data": {
      "text/plain": "['10.81%',\n dict_keys(['1A', '2A', '2B', '4', '3A', '99', '3B', '3C', '1B', 'Not applicable', '0']),\n \"{'1A': '47.55%', '2A': '21.74%', '2B': '10.22%', '4': '5.48%', '3A': '5.35%', '99': '2.97%', '3B': '2.28%', '3C': '2.02%', '1B': '1.69%', 'Not applicable': '0.38%', '0': '0.18%'}\",\n 12]"
     },
     "execution_count": 12,
     "metadata": {},
     "output_type": "execute_result"
    }
   ],
   "source": [
    "# get unique data\n",
    "def my_unique(series):\n",
    "\n",
    "    notna = len(series) - series.isna().sum()\n",
    "    uniqvals = series.value_counts()\n",
    "    uniqvals.sort_values(ascending=False, inplace=True)\n",
    "    uniques = len(uniqvals)\n",
    "    uniqdict = {}\n",
    "    n = 0\n",
    "    for i, v in zip(uniqvals.index, uniqvals.values):\n",
    "        if n > 10:\n",
    "            break\n",
    "        n+=1\n",
    "        uniqdict[i] = f'{round(v/notna*100, 2)}%'\n",
    "\n",
    "    return f'{round(notna/len(series)*100, 2)}%', uniqdict.keys(), str(uniqdict), uniques\n",
    "list(my_unique(seer_df['Derived SEER Cmb Stg Grp (2016-2017)']))"
   ],
   "metadata": {
    "collapsed": false
   }
  },
  {
   "cell_type": "code",
   "execution_count": 13,
   "outputs": [],
   "source": [
    "unidata = []\n",
    "for col in seer_df.columns:\n",
    "    # print(col)\n",
    "    desc = seer_metada_df.loc[col, 'Description']\n",
    "    uni = list(my_unique(seer_df[col]))\n",
    "    # print(f'{col} -- {uni}')\n",
    "    uni.append(desc)\n",
    "    unidata.append(uni)\n",
    "unidata = np.array(unidata)\n"
   ],
   "metadata": {
    "collapsed": false
   }
  },
  {
   "cell_type": "code",
   "execution_count": 14,
   "outputs": [
    {
     "data": {
      "text/plain": "array([['100.0%',\n        dict_keys(['60-64 years', '55-59 years', '65-69 years', '50-54 years', '70-74 years', '45-49 years', '75-79 years', '40-44 years', '80-84 years', '85+ years', '35-39 years']),\n        \"{'60-64 years': '12.66%', '55-59 years': '12.22%', '65-69 years': '12.12%', '50-54 years': '11.43%', '70-74 years': '10.21%', '45-49 years': '9.79%', '75-79 years': '8.46%', '40-44 years': '6.32%', '80-84 years': '6.26%', '85+ years': '5.59%', '35-39 years': '3.05%'}\",\n        19,\n        'The age recode variable is based on Age at Diagnosis (single-year ages). The groupings used in the age recode variable are determined by the age groupings in the population data. This recode has 19 age groups in the age  recode variable (< 1 year, 1-4 years, 5-9 years, ..., 85+ years). \\nWill be in Race and Age (case data only) in rate or prevalence sessions if an alternate age is used as the population age variable.\\nSee data description:\\nhttps://seer.cancer.gov/data-software/documentation/seerstat/nov2021/TextData.FileDescription.pdf '],\n       ['100.0%', dict_keys(['Female', 'Male', '0']),\n        \"{'Female': '99.27%', 'Male': '0.72%', '0': '0.0%'}\", 3,\n        'Includes 1= Male and 2=Female from Sex [NAACCR Item #220] plus a total of male and female. This is used to link to the correct populations for males and females when calculating sex-specific rates.'],\n       ['100.0%', dict_keys(['Not PRCDA', 'PRCDA', 'Unknown PRCDA']),\n        \"{'Not PRCDA': '59.47%', 'PRCDA': '40.5%', 'Unknown PRCDA': '0.03%'}\",\n        3,\n        'This data item identifies whether or not the county of diagnosis is served by PRCDA. The primary use of this field is to be able to limit analyses of AI/AN race to areas served by PRCDA. \\nSee https://seer.cancer.gov/seerstat/variables/seer/race_ethnicity  OR\\n https://seer.cancer.gov/seerstat/variables/countyattribs/ ']],\n      dtype=object)"
     },
     "execution_count": 14,
     "metadata": {},
     "output_type": "execute_result"
    }
   ],
   "source": [
    "\n",
    "unidata[:3]"
   ],
   "metadata": {
    "collapsed": false
   }
  },
  {
   "cell_type": "code",
   "execution_count": 15,
   "outputs": [],
   "source": [
    "\n",
    "uni_df = pd.DataFrame(index=seer_df.columns, data = unidata, columns=['ratio of existing data', 'unique data entries', 'distribution of data entries', 'number of unique entries', 'Description'])"
   ],
   "metadata": {
    "collapsed": false
   }
  },
  {
   "cell_type": "code",
   "execution_count": 16,
   "outputs": [
    {
     "data": {
      "text/plain": "                             ratio of existing data  \\\nAge recode with <1 year olds                 100.0%   \nSex                                          100.0%   \nPRCDA 2017                                   100.0%   \nRace recode (W, B, AI, API)                  100.0%   \nYear of diagnosis                            100.0%   \n\n                                                            unique data entries  \\\nAge recode with <1 year olds  (60-64 years, 55-59 years, 65-69 years, 50-54 ...   \nSex                                                           (Female, Male, 0)   \nPRCDA 2017                                    (Not PRCDA, PRCDA, Unknown PRCDA)   \nRace recode (W, B, AI, API)   (White, Asian or Pacific Islander, Black, Amer...   \nYear of diagnosis             (2015, 2016, 2014, 2013, 2012, 2011, 2009, 201...   \n\n                                                   distribution of data entries  \\\nAge recode with <1 year olds  {'60-64 years': '12.66%', '55-59 years': '12.2...   \nSex                           {'Female': '99.27%', 'Male': '0.72%', '0': '0....   \nPRCDA 2017                    {'Not PRCDA': '59.47%', 'PRCDA': '40.5%', 'Unk...   \nRace recode (W, B, AI, API)   {'White': '80.41%', 'Asian or Pacific Islander...   \nYear of diagnosis             {2015: '6.05%', 2016: '5.93%', 2014: '5.87%', ...   \n\n                             number of unique entries  \\\nAge recode with <1 year olds                       19   \nSex                                                 3   \nPRCDA 2017                                          3   \nRace recode (W, B, AI, API)                         6   \nYear of diagnosis                                  20   \n\n                                                                    Description  \nAge recode with <1 year olds  The age recode variable is based on Age at Dia...  \nSex                           Includes 1= Male and 2=Female from Sex [NAACCR...  \nPRCDA 2017                    This data item identifies whether or not the c...  \nRace recode (W, B, AI, API)   Caution should be exercised when using this va...  \nYear of diagnosis             Year of Diagnosis: values are 1973-2014 but ma...  ",
      "text/html": "<div>\n<style scoped>\n    .dataframe tbody tr th:only-of-type {\n        vertical-align: middle;\n    }\n\n    .dataframe tbody tr th {\n        vertical-align: top;\n    }\n\n    .dataframe thead th {\n        text-align: right;\n    }\n</style>\n<table border=\"1\" class=\"dataframe\">\n  <thead>\n    <tr style=\"text-align: right;\">\n      <th></th>\n      <th>ratio of existing data</th>\n      <th>unique data entries</th>\n      <th>distribution of data entries</th>\n      <th>number of unique entries</th>\n      <th>Description</th>\n    </tr>\n  </thead>\n  <tbody>\n    <tr>\n      <th>Age recode with &lt;1 year olds</th>\n      <td>100.0%</td>\n      <td>(60-64 years, 55-59 years, 65-69 years, 50-54 ...</td>\n      <td>{'60-64 years': '12.66%', '55-59 years': '12.2...</td>\n      <td>19</td>\n      <td>The age recode variable is based on Age at Dia...</td>\n    </tr>\n    <tr>\n      <th>Sex</th>\n      <td>100.0%</td>\n      <td>(Female, Male, 0)</td>\n      <td>{'Female': '99.27%', 'Male': '0.72%', '0': '0....</td>\n      <td>3</td>\n      <td>Includes 1= Male and 2=Female from Sex [NAACCR...</td>\n    </tr>\n    <tr>\n      <th>PRCDA 2017</th>\n      <td>100.0%</td>\n      <td>(Not PRCDA, PRCDA, Unknown PRCDA)</td>\n      <td>{'Not PRCDA': '59.47%', 'PRCDA': '40.5%', 'Unk...</td>\n      <td>3</td>\n      <td>This data item identifies whether or not the c...</td>\n    </tr>\n    <tr>\n      <th>Race recode (W, B, AI, API)</th>\n      <td>100.0%</td>\n      <td>(White, Asian or Pacific Islander, Black, Amer...</td>\n      <td>{'White': '80.41%', 'Asian or Pacific Islander...</td>\n      <td>6</td>\n      <td>Caution should be exercised when using this va...</td>\n    </tr>\n    <tr>\n      <th>Year of diagnosis</th>\n      <td>100.0%</td>\n      <td>(2015, 2016, 2014, 2013, 2012, 2011, 2009, 201...</td>\n      <td>{2015: '6.05%', 2016: '5.93%', 2014: '5.87%', ...</td>\n      <td>20</td>\n      <td>Year of Diagnosis: values are 1973-2014 but ma...</td>\n    </tr>\n  </tbody>\n</table>\n</div>"
     },
     "execution_count": 16,
     "metadata": {},
     "output_type": "execute_result"
    }
   ],
   "source": [
    "uni_df.head()"
   ],
   "metadata": {
    "collapsed": false
   }
  },
  {
   "cell_type": "code",
   "execution_count": 17,
   "outputs": [],
   "source": [
    "# uni_df.to_excel('SEER_column_sense.xlsx')"
   ],
   "metadata": {
    "collapsed": false
   }
  },
  {
   "cell_type": "code",
   "execution_count": 18,
   "outputs": [
    {
     "data": {
      "text/plain": "2015    47435\n2016    46483\n2014    45976\n2013    45443\n2012    44723\n2011    43887\n2009    42515\n2010    41964\n2008    41488\n2007    40541\n2001    39164\n2002    39060\n2006    38810\n2005    38504\n2017    38231\n2000    38181\n2004    37815\n2003    37288\n2018    36307\n0           2\nName: Year of diagnosis, dtype: int64"
     },
     "execution_count": 18,
     "metadata": {},
     "output_type": "execute_result"
    }
   ],
   "source": [
    "seer_df['Year of diagnosis'].value_counts()"
   ],
   "metadata": {
    "collapsed": false
   }
  },
  {
   "cell_type": "code",
   "execution_count": 19,
   "outputs": [],
   "source": [
    "seer_df.sort_values(by=['Year of diagnosis'], inplace=True, ascending=False)"
   ],
   "metadata": {
    "collapsed": false
   }
  },
  {
   "cell_type": "code",
   "execution_count": null,
   "outputs": [],
   "source": [
    "seer_df['Derived SEER Combined M (2016-2017)'].value_counts()"
   ],
   "metadata": {
    "collapsed": false
   }
  },
  {
   "cell_type": "code",
   "execution_count": null,
   "outputs": [],
   "source": [
    "arr = np.array([True, False])\n",
    "print(arr, ~arr)"
   ],
   "metadata": {
    "collapsed": false
   }
  }
 ],
 "metadata": {
  "kernelspec": {
   "display_name": "Python 3",
   "language": "python",
   "name": "python3"
  },
  "language_info": {
   "codemirror_mode": {
    "name": "ipython",
    "version": 2
   },
   "file_extension": ".py",
   "mimetype": "text/x-python",
   "name": "python",
   "nbconvert_exporter": "python",
   "pygments_lexer": "ipython2",
   "version": "2.7.6"
  }
 },
 "nbformat": 4,
 "nbformat_minor": 0
}
